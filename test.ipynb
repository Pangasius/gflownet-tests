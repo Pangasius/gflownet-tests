{
 "cells": [
  {
   "cell_type": "code",
   "execution_count": 1,
   "metadata": {},
   "outputs": [],
   "source": [
    "from envs.grid_3_actions import Grid\n",
    "from policy import ForwardPolicy, BackwardPolicy\n",
    "\n",
    "from gflownet.gflownet import GFlowNet\n",
    "from gflownet.utils import trajectory_balance_loss\n",
    "\n",
    "from torch.optim import Adam\n",
    "from torch.nn.functional import one_hot\n",
    "import torch"
   ]
  },
  {
   "attachments": {},
   "cell_type": "markdown",
   "metadata": {},
   "source": [
    "1. Initialize the grid environment using a grid size\n",
    "2. Define a policy network taking a state vector as input and outputting a vector of probabilities over possible actions. (In the grid domain, the number of actions is three: **Down**, **Right**, and **Terminate**.)\n",
    "3. Define a backward policy. In this case, the policy is not estimated but fixed to 0.5 for all parent states (except when there is only one parent state)."
   ]
  },
  {
   "cell_type": "code",
   "execution_count": 2,
   "metadata": {},
   "outputs": [],
   "source": [
    "grid_size = 16\n",
    "hidden_dim = 32"
   ]
  },
  {
   "cell_type": "code",
   "execution_count": 3,
   "metadata": {},
   "outputs": [],
   "source": [
    "env = Grid(size=grid_size)\n",
    "num_actions = env.num_actions\n",
    "backward_policy = BackwardPolicy(env.state_dim, num_actions=num_actions)\n",
    "forward_policy = ForwardPolicy(env.state_dim, hidden_dim=hidden_dim, num_actions=num_actions)\n",
    "model = GFlowNet(forward_policy, backward_policy, env)\n",
    "opt = Adam(model.parameters(), lr=5e-3)\n"
   ]
  },
  {
   "attachments": {},
   "cell_type": "markdown",
   "metadata": {},
   "source": [
    "To train the model, construct an NxD matrix of initial states, where N is the desired number of samples and D is the dimensionality of the state vector (i.e. `state_dim`). Then, draw samples from the model using the `sample_states` method, giving it the initial states and setting `return_log=True`. The resulting `Log` object contains information about the trajectory of each sample, which is used to compute the trajectory balance loss."
   ]
  },
  {
   "cell_type": "code",
   "execution_count": 4,
   "metadata": {},
   "outputs": [],
   "source": [
    "num_epochs = 1500\n",
    "batch_size = 32"
   ]
  },
  {
   "cell_type": "code",
   "execution_count": 5,
   "metadata": {},
   "outputs": [
    {
     "name": "stdout",
     "output_type": "stream",
     "text": [
      "Epoch 1499: 3.6530332565307617\r"
     ]
    }
   ],
   "source": [
    "for i in range(num_epochs):\n",
    "  s0 = one_hot(torch.zeros(batch_size).long(), env.state_dim).float()\n",
    "  s, log = model.sample_states(s0, return_log=True)\n",
    "  \n",
    "  loss = trajectory_balance_loss(log.total_flow, log.rewards, log.fwd_probs, log.back_probs)\n",
    "  loss.backward()\n",
    "  opt.step()\n",
    "  opt.zero_grad()\n",
    "  \n",
    "  print(f\"Epoch {i}: {loss.item()}\", end=\"\\r\")"
   ]
  },
  {
   "attachments": {},
   "cell_type": "markdown",
   "metadata": {},
   "source": [
    "Finally, when the model has been trained, you can sample states using the same `sample_states(...)` method as before, this time without needing to supply the `return_log=True` argument."
   ]
  },
  {
   "cell_type": "code",
   "execution_count": 6,
   "metadata": {},
   "outputs": [],
   "source": [
    "test_size = 10**4"
   ]
  },
  {
   "cell_type": "code",
   "execution_count": 7,
   "metadata": {},
   "outputs": [],
   "source": [
    "\n",
    "with torch.no_grad() : \n",
    "    s0 = one_hot(torch.zeros(test_size).long(), env.state_dim).float()\n",
    "    s = model.sample_states(s0)"
   ]
  },
  {
   "cell_type": "code",
   "execution_count": 8,
   "metadata": {},
   "outputs": [
    {
     "data": {
      "text/plain": [
       "<matplotlib.image.AxesImage at 0x1dbc7db2b30>"
      ]
     },
     "execution_count": 8,
     "metadata": {},
     "output_type": "execute_result"
    },
    {
     "data": {
      "image/png": "[encoded data removed]",
      "text/plain": [
       "<Figure size 640x480 with 2 Axes>"
      ]
     },
     "metadata": {},
     "output_type": "display_data"
    }
   ],
   "source": [
    "import matplotlib.pyplot as plt\n",
    "figure = plt.figure()\n",
    "s_2d = s.reshape(-1,  grid_size, grid_size)\n",
    "s_2d = s_2d.mean(dim=0).reshape(grid_size, grid_size).numpy()\n",
    "\n",
    "f1 = figure.add_subplot(1, 2, 1)\n",
    "f1.set_title('Mean of ' + str(test_size) + ' samples')\n",
    "plt.imshow(s_2d)\n",
    "\n",
    "f2 = figure.add_subplot(1, 2, 2)\n",
    "f2.set_title('Optimal policy')\n",
    "plt.imshow(env.to_grid().reshape(grid_size, grid_size).numpy())\n"
   ]
  },
  {
   "cell_type": "code",
   "execution_count": 9,
   "metadata": {},
   "outputs": [],
   "source": [
    "#save image to file\n",
    "figure.savefig('test_g' + str(grid_size) + '_h' + str(hidden_dim) + '_a' + str(num_actions) + '_e' + str(num_epochs) + '.png')"
   ]
  }
 ],
 "metadata": {
  "kernelspec": {
   "display_name": "thesis",
   "language": "python",
   "name": "python3"
  },
  "language_info": {
   "codemirror_mode": {
    "name": "ipython",
    "version": 3
   },
   "file_extension": ".py",
   "mimetype": "text/x-python",
   "name": "python",
   "nbconvert_exporter": "python",
   "pygments_lexer": "ipython3",
   "version": "3.10.8"
  },
  "orig_nbformat": 4,
  "vscode": {
   "interpreter": {
    "hash": "fefcaccf17e39639418275c4a17d5ca0413e9c7c1af2b5e38e9064532ca76b63"
   }
  }
 },
 "nbformat": 4,
 "nbformat_minor": 2
}
