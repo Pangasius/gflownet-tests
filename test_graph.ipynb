{
 "cells": [
  {
   "cell_type": "code",
   "execution_count": 1,
   "metadata": {},
   "outputs": [
    {
     "name": "stderr",
     "output_type": "stream",
     "text": [
      "c:\\Users\\gille\\miniconda3\\envs\\geom\\lib\\site-packages\\tqdm\\auto.py:22: TqdmWarning: IProgress not found. Please update jupyter and ipywidgets. See https://ipywidgets.readthedocs.io/en/stable/user_install.html\n",
      "  from .autonotebook import tqdm as notebook_tqdm\n"
     ]
    }
   ],
   "source": [
    "from envs.graph.cells_policy import ForwardPolicy, BackwardPolicy\n",
    "from envs.graph.moving_cells import MovingCells\n",
    "\n",
    "from gflownet.gflownet import GFlowNet\n",
    "from gflownet.utils import trajectory_balance_loss\n",
    "\n",
    "from torch.optim import RMSprop\n",
    "from torch.optim.lr_scheduler import CosineAnnealingWarmRestarts\n",
    "\n",
    "from torch.nn.functional import one_hot\n",
    "import torch\n",
    "\n",
    "import matplotlib.pyplot as plt\n",
    "\n",
    "from torch_geometric.nn import radius_graph\n",
    "from torch_geometric.data import Data\n",
    "\n",
    "from torch_geometric.utils import to_networkx\n",
    "import networkx as nx\n",
    "\n",
    "import time"
   ]
  },
  {
   "cell_type": "code",
   "execution_count": 2,
   "metadata": {},
   "outputs": [],
   "source": [
    "def train (device, model, opt, opt_args, num_epochs, batch_size, offset=0) :\n",
    "  print (\"Training the model on \", device)\n",
    "  #compute the time taken to train the model\n",
    "  time_in = time.time()\n",
    "  model = model.to(device)\n",
    "  \n",
    "  opt = opt(model.parameters(), **opt_args)\n",
    "  scheduler = CosineAnnealingWarmRestarts(opt, T_0=10, T_mult=2)\n",
    "  \n",
    "  graph_size = model.env.graph_size\n",
    "  edge_distance = model.env.edge_distance\n",
    "  \n",
    "  for i in range(offset, num_epochs + offset):\n",
    "    s0 = torch.rand(batch_size, int(torch.floor(torch.tensor(graph_size ** 2 / 2)).item()), 2).to(device) * (edge_distance * (4/3) * 2)\n",
    "    #fill s0 with nans to have batch_size * graph_size ** 2 * 2 elements\n",
    "    s0 = torch.cat((s0, torch.empty(batch_size, int(torch.ceil(torch.tensor(graph_size ** 2 / 2)).item()), 2).to(device).fill_(float('nan'))), dim=1)\n",
    "    s0 = s0.view(batch_size, -1)\n",
    "    \n",
    "    s, log = model.sample_states(s0, return_log=True)\n",
    "   \n",
    "    loss = trajectory_balance_loss(log.total_flow, log.rewards, log.fwd_probs, log.back_probs)\n",
    "    loss.backward()\n",
    "    \n",
    "    opt.step()\n",
    "    opt.zero_grad()\n",
    "    \n",
    "    scheduler.step(i)\n",
    "    \n",
    "    print(\"Epoch: \", i, \"Loss: \", loss.item(), \"Lr: \", scheduler.get_last_lr(), end='\\r')\n",
    "  time_out = time.time() - time_in\n",
    "  print(\"\\nTime taken to train the model: \", time_out)\n",
    "  \n",
    "  return model"
   ]
  },
  {
   "cell_type": "code",
   "execution_count": 3,
   "metadata": {},
   "outputs": [],
   "source": [
    "def test(device, model, test_size, fig_name, seed = None) :\n",
    "    with torch.no_grad() : \n",
    "        model = model.to(device)\n",
    "        \n",
    "        graph_size = model.env.graph_size\n",
    "        edge_distance = model.env.edge_distance\n",
    "        \n",
    "        if seed is not None :\n",
    "            generator = torch.manual_seed(seed)\n",
    "            s0 = torch.rand(test_size, int(torch.floor(torch.tensor(graph_size ** 2 / 2)).item()), 2, generator = generator).to(device) * (edge_distance * (4/3) * 2)\n",
    "        else : \n",
    "            s0 = torch.rand(test_size, int(torch.floor(torch.tensor(graph_size ** 2 / 2)).item()), 2).to(device) * (edge_distance * (4/3) * 2)\n",
    "        #fill s0 with nans to have test_size * graph_size ** 2 * 2 elements\n",
    "        s0 = torch.cat((s0, torch.empty(test_size, int(torch.ceil(torch.tensor(graph_size ** 2 / 2)).item()), 2).to(device).fill_(float('nan'))), dim=1)\n",
    "        s0 = s0.view(test_size, -1)\n",
    "        s = model.sample_states(s0)\n",
    "        \n",
    "        s = s.cpu()\n",
    "        model.env.plot(s, fig_name)"
   ]
  },
  {
   "cell_type": "code",
   "execution_count": 4,
   "metadata": {},
   "outputs": [
    {
     "data": {
      "image/png": "[encoded data removed]",
      "text/plain": [
       "<Figure size 640x480 with 1 Axes>"
      ]
     },
     "metadata": {},
     "output_type": "display_data"
    }
   ],
   "source": [
    "num_epochs = 100\n",
    "batch_size = 16\n",
    "hidden_dim = 32\n",
    "\n",
    "graph_size = 5\n",
    "edge_distance = 5\n",
    "env = MovingCells(graph_size, edge_distance) \n",
    "\n",
    "test_size = 10**2\n",
    "\n",
    "backward_policy = BackwardPolicy(env.num_actions, env.graph_size)\n",
    "forward_policy = ForwardPolicy(env.num_actions, env.graph_size, env.edge_distance, hidden_dim)\n",
    "\n",
    "model = GFlowNet(forward_policy, backward_policy, env)\n",
    "\n",
    "initial_pos =  torch.rand(graph_size ** 2 // 2, 2) * edge_distance * (4/3) * 2\n",
    "\n",
    "initial_edge_index = radius_graph(initial_pos, r=edge_distance, max_num_neighbors=32, loop=False)\n",
    "initial_edge_attr = torch.norm(initial_pos[initial_edge_index[0]] - initial_pos[initial_edge_index[1]], dim=1).unsqueeze(1)\n",
    "\n",
    "initial_graph = Data(pos=initial_pos, \n",
    "                        edge_index=initial_edge_index,\n",
    "                        edge_attr=initial_edge_attr,\n",
    "                        updates = 0)\n",
    "\n",
    "g = to_networkx(initial_graph, to_undirected=True)\n",
    "nx.draw(g)"
   ]
  },
  {
   "cell_type": "code",
   "execution_count": 5,
   "metadata": {},
   "outputs": [
    {
     "name": "stdout",
     "output_type": "stream",
     "text": [
      "Training the model on  cuda\n"
     ]
    },
    {
     "ename": "ValueError",
     "evalue": "Expected parameter probs (Tensor of shape (16, 7)) of distribution Categorical(probs: torch.Size([16, 7])) to satisfy the constraint Simplex(), but found invalid values:\ntensor([[   nan,    nan,    nan,    nan,    nan,    nan,    nan],\n        [   nan,    nan,    nan,    nan,    nan,    nan,    nan],\n        [0.1203, 0.1289, 0.1115, 0.2434, 0.0928, 0.1634, 0.1396],\n        [   nan,    nan,    nan,    nan,    nan,    nan,    nan],\n        [   nan,    nan,    nan,    nan,    nan,    nan,    nan],\n        [   nan,    nan,    nan,    nan,    nan,    nan,    nan],\n        [0.0916, 0.1557, 0.0867, 0.3090, 0.0961, 0.1842, 0.0767],\n        [0.1109, 0.1887, 0.0618, 0.2980, 0.0994, 0.1552, 0.0859],\n        [   nan,    nan,    nan,    nan,    nan,    nan,    nan],\n        [   nan,    nan,    nan,    nan,    nan,    nan,    nan],\n        [   nan,    nan,    nan,    nan,    nan,    nan,    nan],\n        [0.0776, 0.1888, 0.0429, 0.3916, 0.1011, 0.1659, 0.0321],\n        [   nan,    nan,    nan,    nan,    nan,    nan,    nan],\n        [   nan,    nan,    nan,    nan,    nan,    nan,    nan],\n        [0.0813, 0.1679, 0.0738, 0.3021, 0.1021, 0.2186, 0.0542],\n        [   nan,    nan,    nan,    nan,    nan,    nan,    nan]],\n       device='cuda:0', grad_fn=<DivBackward0>)",
     "output_type": "error",
     "traceback": [
      "\u001b[1;31m---------------------------------------------------------------------------\u001b[0m",
      "\u001b[1;31mValueError\u001b[0m                                Traceback (most recent call last)",
      "Cell \u001b[1;32mIn[5], line 2\u001b[0m\n\u001b[0;32m      1\u001b[0m \u001b[39mfor\u001b[39;00m i \u001b[39min\u001b[39;00m \u001b[39mrange\u001b[39m(\u001b[39m5\u001b[39m):\n\u001b[1;32m----> 2\u001b[0m     model \u001b[39m=\u001b[39m train(\u001b[39m\"\u001b[39;49m\u001b[39mcuda\u001b[39;49m\u001b[39m\"\u001b[39;49m \u001b[39mif\u001b[39;49;00m torch\u001b[39m.\u001b[39;49mcuda\u001b[39m.\u001b[39;49mis_available \u001b[39melse\u001b[39;49;00m \u001b[39m\"\u001b[39;49m\u001b[39mcpu\u001b[39;49m\u001b[39m\"\u001b[39;49m, model, RMSprop, {\u001b[39m\"\u001b[39;49m\u001b[39mlr\u001b[39;49m\u001b[39m\"\u001b[39;49m: \u001b[39m1e-3\u001b[39;49m}, num_epochs, batch_size, i \u001b[39m*\u001b[39;49m num_epochs)\n\u001b[0;32m      4\u001b[0m     test(\u001b[39m\"\u001b[39m\u001b[39mcpu\u001b[39m\u001b[39m\"\u001b[39m, model, test_size, \u001b[39m\"\u001b[39m\u001b[39mtest.png\u001b[39m\u001b[39m\"\u001b[39m, seed \u001b[39m=\u001b[39m \u001b[39m0\u001b[39m)\n",
      "Cell \u001b[1;32mIn[2], line 19\u001b[0m, in \u001b[0;36mtrain\u001b[1;34m(device, model, opt, opt_args, num_epochs, batch_size, offset)\u001b[0m\n\u001b[0;32m     16\u001b[0m s0 \u001b[39m=\u001b[39m torch\u001b[39m.\u001b[39mcat((s0, torch\u001b[39m.\u001b[39mempty(batch_size, \u001b[39mint\u001b[39m(torch\u001b[39m.\u001b[39mceil(torch\u001b[39m.\u001b[39mtensor(graph_size \u001b[39m*\u001b[39m\u001b[39m*\u001b[39m \u001b[39m2\u001b[39m \u001b[39m/\u001b[39m \u001b[39m2\u001b[39m))\u001b[39m.\u001b[39mitem()), \u001b[39m2\u001b[39m)\u001b[39m.\u001b[39mto(device)\u001b[39m.\u001b[39mfill_(\u001b[39mfloat\u001b[39m(\u001b[39m'\u001b[39m\u001b[39mnan\u001b[39m\u001b[39m'\u001b[39m))), dim\u001b[39m=\u001b[39m\u001b[39m1\u001b[39m)\n\u001b[0;32m     17\u001b[0m s0 \u001b[39m=\u001b[39m s0\u001b[39m.\u001b[39mview(batch_size, \u001b[39m-\u001b[39m\u001b[39m1\u001b[39m)\n\u001b[1;32m---> 19\u001b[0m s, log \u001b[39m=\u001b[39m model\u001b[39m.\u001b[39;49msample_states(s0, return_log\u001b[39m=\u001b[39;49m\u001b[39mTrue\u001b[39;49;00m)\n\u001b[0;32m     21\u001b[0m loss \u001b[39m=\u001b[39m trajectory_balance_loss(log\u001b[39m.\u001b[39mtotal_flow, log\u001b[39m.\u001b[39mrewards, log\u001b[39m.\u001b[39mfwd_probs, log\u001b[39m.\u001b[39mback_probs)\n\u001b[0;32m     22\u001b[0m loss\u001b[39m.\u001b[39mbackward()\n",
      "File \u001b[1;32mc:\\Users\\gille\\Desktop\\gflownet-tests\\gflownet\\gflownet.py:71\u001b[0m, in \u001b[0;36mGFlowNet.sample_states\u001b[1;34m(self, s0, return_log)\u001b[0m\n\u001b[0;32m     69\u001b[0m \u001b[39mwhile\u001b[39;00m \u001b[39mnot\u001b[39;00m done\u001b[39m.\u001b[39mall():\n\u001b[0;32m     70\u001b[0m     probs \u001b[39m=\u001b[39m \u001b[39mself\u001b[39m\u001b[39m.\u001b[39mforward_probs(s[\u001b[39m~\u001b[39mdone])\n\u001b[1;32m---> 71\u001b[0m     actions \u001b[39m=\u001b[39m Categorical(probs)\u001b[39m.\u001b[39msample()\n\u001b[0;32m     72\u001b[0m     s[\u001b[39m~\u001b[39mdone] \u001b[39m=\u001b[39m \u001b[39mself\u001b[39m\u001b[39m.\u001b[39menv\u001b[39m.\u001b[39mupdate(s[\u001b[39m~\u001b[39mdone], actions)\n\u001b[0;32m     74\u001b[0m     \u001b[39mif\u001b[39;00m return_log:\n\u001b[0;32m     75\u001b[0m         \u001b[39m#we can disable pylance reportOptionalMemberAccess error for this\u001b[39;00m\n",
      "File \u001b[1;32mc:\\Users\\gille\\miniconda3\\envs\\geom\\lib\\site-packages\\torch\\distributions\\categorical.py:64\u001b[0m, in \u001b[0;36mCategorical.__init__\u001b[1;34m(self, probs, logits, validate_args)\u001b[0m\n\u001b[0;32m     62\u001b[0m \u001b[39mself\u001b[39m\u001b[39m.\u001b[39m_num_events \u001b[39m=\u001b[39m \u001b[39mself\u001b[39m\u001b[39m.\u001b[39m_param\u001b[39m.\u001b[39msize()[\u001b[39m-\u001b[39m\u001b[39m1\u001b[39m]\n\u001b[0;32m     63\u001b[0m batch_shape \u001b[39m=\u001b[39m \u001b[39mself\u001b[39m\u001b[39m.\u001b[39m_param\u001b[39m.\u001b[39msize()[:\u001b[39m-\u001b[39m\u001b[39m1\u001b[39m] \u001b[39mif\u001b[39;00m \u001b[39mself\u001b[39m\u001b[39m.\u001b[39m_param\u001b[39m.\u001b[39mndimension() \u001b[39m>\u001b[39m \u001b[39m1\u001b[39m \u001b[39melse\u001b[39;00m torch\u001b[39m.\u001b[39mSize()\n\u001b[1;32m---> 64\u001b[0m \u001b[39msuper\u001b[39;49m(Categorical, \u001b[39mself\u001b[39;49m)\u001b[39m.\u001b[39;49m\u001b[39m__init__\u001b[39;49m(batch_shape, validate_args\u001b[39m=\u001b[39;49mvalidate_args)\n",
      "File \u001b[1;32mc:\\Users\\gille\\miniconda3\\envs\\geom\\lib\\site-packages\\torch\\distributions\\distribution.py:55\u001b[0m, in \u001b[0;36mDistribution.__init__\u001b[1;34m(self, batch_shape, event_shape, validate_args)\u001b[0m\n\u001b[0;32m     53\u001b[0m         valid \u001b[39m=\u001b[39m constraint\u001b[39m.\u001b[39mcheck(value)\n\u001b[0;32m     54\u001b[0m         \u001b[39mif\u001b[39;00m \u001b[39mnot\u001b[39;00m valid\u001b[39m.\u001b[39mall():\n\u001b[1;32m---> 55\u001b[0m             \u001b[39mraise\u001b[39;00m \u001b[39mValueError\u001b[39;00m(\n\u001b[0;32m     56\u001b[0m                 \u001b[39mf\u001b[39m\u001b[39m\"\u001b[39m\u001b[39mExpected parameter \u001b[39m\u001b[39m{\u001b[39;00mparam\u001b[39m}\u001b[39;00m\u001b[39m \u001b[39m\u001b[39m\"\u001b[39m\n\u001b[0;32m     57\u001b[0m                 \u001b[39mf\u001b[39m\u001b[39m\"\u001b[39m\u001b[39m(\u001b[39m\u001b[39m{\u001b[39;00m\u001b[39mtype\u001b[39m(value)\u001b[39m.\u001b[39m\u001b[39m__name__\u001b[39m\u001b[39m}\u001b[39;00m\u001b[39m of shape \u001b[39m\u001b[39m{\u001b[39;00m\u001b[39mtuple\u001b[39m(value\u001b[39m.\u001b[39mshape)\u001b[39m}\u001b[39;00m\u001b[39m) \u001b[39m\u001b[39m\"\u001b[39m\n\u001b[0;32m     58\u001b[0m                 \u001b[39mf\u001b[39m\u001b[39m\"\u001b[39m\u001b[39mof distribution \u001b[39m\u001b[39m{\u001b[39;00m\u001b[39mrepr\u001b[39m(\u001b[39mself\u001b[39m)\u001b[39m}\u001b[39;00m\u001b[39m \u001b[39m\u001b[39m\"\u001b[39m\n\u001b[0;32m     59\u001b[0m                 \u001b[39mf\u001b[39m\u001b[39m\"\u001b[39m\u001b[39mto satisfy the constraint \u001b[39m\u001b[39m{\u001b[39;00m\u001b[39mrepr\u001b[39m(constraint)\u001b[39m}\u001b[39;00m\u001b[39m, \u001b[39m\u001b[39m\"\u001b[39m\n\u001b[0;32m     60\u001b[0m                 \u001b[39mf\u001b[39m\u001b[39m\"\u001b[39m\u001b[39mbut found invalid values:\u001b[39m\u001b[39m\\n\u001b[39;00m\u001b[39m{\u001b[39;00mvalue\u001b[39m}\u001b[39;00m\u001b[39m\"\u001b[39m\n\u001b[0;32m     61\u001b[0m             )\n\u001b[0;32m     62\u001b[0m \u001b[39msuper\u001b[39m(Distribution, \u001b[39mself\u001b[39m)\u001b[39m.\u001b[39m\u001b[39m__init__\u001b[39m()\n",
      "\u001b[1;31mValueError\u001b[0m: Expected parameter probs (Tensor of shape (16, 7)) of distribution Categorical(probs: torch.Size([16, 7])) to satisfy the constraint Simplex(), but found invalid values:\ntensor([[   nan,    nan,    nan,    nan,    nan,    nan,    nan],\n        [   nan,    nan,    nan,    nan,    nan,    nan,    nan],\n        [0.1203, 0.1289, 0.1115, 0.2434, 0.0928, 0.1634, 0.1396],\n        [   nan,    nan,    nan,    nan,    nan,    nan,    nan],\n        [   nan,    nan,    nan,    nan,    nan,    nan,    nan],\n        [   nan,    nan,    nan,    nan,    nan,    nan,    nan],\n        [0.0916, 0.1557, 0.0867, 0.3090, 0.0961, 0.1842, 0.0767],\n        [0.1109, 0.1887, 0.0618, 0.2980, 0.0994, 0.1552, 0.0859],\n        [   nan,    nan,    nan,    nan,    nan,    nan,    nan],\n        [   nan,    nan,    nan,    nan,    nan,    nan,    nan],\n        [   nan,    nan,    nan,    nan,    nan,    nan,    nan],\n        [0.0776, 0.1888, 0.0429, 0.3916, 0.1011, 0.1659, 0.0321],\n        [   nan,    nan,    nan,    nan,    nan,    nan,    nan],\n        [   nan,    nan,    nan,    nan,    nan,    nan,    nan],\n        [0.0813, 0.1679, 0.0738, 0.3021, 0.1021, 0.2186, 0.0542],\n        [   nan,    nan,    nan,    nan,    nan,    nan,    nan]],\n       device='cuda:0', grad_fn=<DivBackward0>)"
     ]
    }
   ],
   "source": [
    "for i in range(5):\n",
    "    model = train(\"cuda\" if torch.cuda.is_available else \"cpu\", model, RMSprop, {\"lr\": 1e-3}, num_epochs, batch_size, i * num_epochs)\n",
    "\n",
    "    test(\"cpu\", model, test_size, \"test.png\", seed = 0)"
   ]
  }
 ],
 "metadata": {
  "kernelspec": {
   "display_name": "geom",
   "language": "python",
   "name": "python3"
  },
  "language_info": {
   "codemirror_mode": {
    "name": "ipython",
    "version": 3
   },
   "file_extension": ".py",
   "mimetype": "text/x-python",
   "name": "python",
   "nbconvert_exporter": "python",
   "pygments_lexer": "ipython3",
   "version": "3.10.8"
  },
  "orig_nbformat": 4,
  "vscode": {
   "interpreter": {
    "hash": "c671acb9d3cf87d64ea7277f1f1b7981cda534cb27553b34f82b93fda7c98f17"
   }
  }
 },
 "nbformat": 4,
 "nbformat_minor": 2
}
